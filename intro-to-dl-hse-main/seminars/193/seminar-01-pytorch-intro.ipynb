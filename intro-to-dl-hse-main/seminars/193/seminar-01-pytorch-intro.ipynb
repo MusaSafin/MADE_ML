{
 "cells": [
  {
   "cell_type": "code",
   "execution_count": 1,
   "id": "fa26e03b",
   "metadata": {
    "id": "fa26e03b"
   },
   "outputs": [],
   "source": [
    "import torch\n",
    "import numpy as np"
   ]
  },
  {
   "cell_type": "code",
   "execution_count": 2,
   "id": "3c769e33",
   "metadata": {
    "id": "3c769e33"
   },
   "outputs": [],
   "source": [
    "x = np.random.rand(2, 3)"
   ]
  },
  {
   "cell_type": "code",
   "execution_count": 3,
   "id": "b771b89b",
   "metadata": {
    "colab": {
     "base_uri": "https://localhost:8080/"
    },
    "id": "b771b89b",
    "outputId": "bbb340f6-39d5-4179-a21d-60c27fab7e7d"
   },
   "outputs": [
    {
     "data": {
      "text/plain": [
       "array([1.18678033, 1.62893071])"
      ]
     },
     "execution_count": 3,
     "metadata": {},
     "output_type": "execute_result"
    }
   ],
   "source": [
    "x.sum(axis=1)"
   ]
  },
  {
   "cell_type": "code",
   "execution_count": 4,
   "id": "99a5ffa1",
   "metadata": {
    "id": "99a5ffa1"
   },
   "outputs": [],
   "source": [
    "a = torch.tensor([[1., 2., 3.]])\n",
    "b = torch.tensor([[4., 5., 6.]])"
   ]
  },
  {
   "cell_type": "code",
   "execution_count": 5,
   "id": "95653dc8",
   "metadata": {
    "id": "95653dc8"
   },
   "outputs": [],
   "source": [
    "device = torch.device('cuda:0' if torch.cuda.is_available() else 'cpu')"
   ]
  },
  {
   "cell_type": "code",
   "execution_count": 6,
   "id": "30bca00c",
   "metadata": {
    "id": "30bca00c"
   },
   "outputs": [],
   "source": [
    "a = torch.rand(5, 10, requires_grad=True)\n",
    "b = torch.rand(5, 10, requires_grad=True)\n",
    "c = torch.rand(5, 10, requires_grad=True)\n",
    "d = torch.sigmoid(a + b)\n",
    "l = torch.trace(c @ d.t())"
   ]
  },
  {
   "cell_type": "code",
   "execution_count": 7,
   "id": "8c052231",
   "metadata": {
    "id": "8c052231"
   },
   "outputs": [],
   "source": [
    "l.backward()"
   ]
  },
  {
   "cell_type": "code",
   "execution_count": 8,
   "id": "d89a8b73",
   "metadata": {
    "colab": {
     "base_uri": "https://localhost:8080/"
    },
    "id": "d89a8b73",
    "outputId": "b9716be8-d730-48e2-8117-fe37f302bb55"
   },
   "outputs": [
    {
     "data": {
      "text/plain": [
       "(tensor([[0.1739, 0.1682, 0.0513, 0.1276, 0.1502, 0.0710, 0.0540, 0.0773, 0.1672,\n",
       "          0.0848],\n",
       "         [0.1450, 0.0262, 0.0805, 0.1797, 0.0553, 0.0068, 0.1094, 0.1786, 0.1259,\n",
       "          0.1279],\n",
       "         [0.0995, 0.0051, 0.1225, 0.1498, 0.1696, 0.1418, 0.1251, 0.0857, 0.0325,\n",
       "          0.1538],\n",
       "         [0.0948, 0.1562, 0.1852, 0.0365, 0.0240, 0.0041, 0.1116, 0.1483, 0.1515,\n",
       "          0.1391],\n",
       "         [0.1312, 0.0153, 0.0424, 0.0482, 0.0612, 0.1519, 0.1138, 0.1706, 0.1524,\n",
       "          0.0978]]),\n",
       " tensor([[0.1739, 0.1682, 0.0513, 0.1276, 0.1502, 0.0710, 0.0540, 0.0773, 0.1672,\n",
       "          0.0848],\n",
       "         [0.1450, 0.0262, 0.0805, 0.1797, 0.0553, 0.0068, 0.1094, 0.1786, 0.1259,\n",
       "          0.1279],\n",
       "         [0.0995, 0.0051, 0.1225, 0.1498, 0.1696, 0.1418, 0.1251, 0.0857, 0.0325,\n",
       "          0.1538],\n",
       "         [0.0948, 0.1562, 0.1852, 0.0365, 0.0240, 0.0041, 0.1116, 0.1483, 0.1515,\n",
       "          0.1391],\n",
       "         [0.1312, 0.0153, 0.0424, 0.0482, 0.0612, 0.1519, 0.1138, 0.1706, 0.1524,\n",
       "          0.0978]]))"
      ]
     },
     "execution_count": 8,
     "metadata": {},
     "output_type": "execute_result"
    }
   ],
   "source": [
    "a.grad, b.grad"
   ]
  },
  {
   "cell_type": "code",
   "execution_count": 9,
   "id": "0720c7df",
   "metadata": {
    "colab": {
     "base_uri": "https://localhost:8080/"
    },
    "id": "0720c7df",
    "outputId": "d5570ed9-d247-4b8d-b8bc-c3ed9b7dee20"
   },
   "outputs": [
    {
     "data": {
      "text/plain": [
       "tensor([[0.6697, 0.6480, 0.7827, 0.6543, 0.7601, 0.7507, 0.7761, 0.7797, 0.7319,\n",
       "         0.6693],\n",
       "        [0.8137, 0.7373, 0.7148, 0.7507, 0.8300, 0.7549, 0.8212, 0.6160, 0.6525,\n",
       "         0.5150],\n",
       "        [0.7836, 0.8162, 0.6776, 0.6293, 0.6797, 0.7061, 0.7110, 0.6865, 0.6910,\n",
       "         0.7593],\n",
       "        [0.7603, 0.6384, 0.6798, 0.8356, 0.7433, 0.6404, 0.7349, 0.7885, 0.7272,\n",
       "         0.7648],\n",
       "        [0.7541, 0.5942, 0.7966, 0.6765, 0.7549, 0.7340, 0.8544, 0.7762, 0.6986,\n",
       "         0.7235]])"
      ]
     },
     "execution_count": 9,
     "metadata": {},
     "output_type": "execute_result"
    }
   ],
   "source": [
    "c.grad"
   ]
  },
  {
   "cell_type": "code",
   "execution_count": 10,
   "id": "8245021d",
   "metadata": {
    "id": "8245021d"
   },
   "outputs": [],
   "source": [
    "c = torch.tanh(a)\n",
    "l = torch.trace(c @ b.t())"
   ]
  },
  {
   "cell_type": "code",
   "execution_count": 11,
   "id": "afe05518",
   "metadata": {
    "id": "afe05518"
   },
   "outputs": [],
   "source": [
    "l.backward()"
   ]
  },
  {
   "cell_type": "code",
   "execution_count": 12,
   "id": "81b887f2",
   "metadata": {
    "id": "81b887f2"
   },
   "outputs": [],
   "source": [
    "a.grad = None\n",
    "b.grad = None"
   ]
  },
  {
   "cell_type": "code",
   "execution_count": 13,
   "id": "e244898f",
   "metadata": {
    "id": "e244898f"
   },
   "outputs": [],
   "source": [
    "with torch.no_grad():\n",
    "    c = torch.tanh(a)\n",
    "    l = torch.trace(c @ b.t())"
   ]
  },
  {
   "cell_type": "code",
   "execution_count": 14,
   "id": "1b373574",
   "metadata": {
    "id": "1b373574"
   },
   "outputs": [],
   "source": [
    "from torch.utils.data import Dataset, DataLoader"
   ]
  },
  {
   "cell_type": "code",
   "execution_count": 15,
   "id": "61df6c90",
   "metadata": {
    "id": "61df6c90"
   },
   "outputs": [],
   "source": [
    "import matplotlib.pyplot as plt\n",
    "from torchvision.datasets import MNIST\n",
    "from torchvision import transforms as T"
   ]
  },
  {
   "cell_type": "code",
   "execution_count": null,
   "id": "23054053",
   "metadata": {
    "id": "23054053"
   },
   "outputs": [],
   "source": [
    "train_set = MNIST('./MNIST', train=True, download=True, transform=T.ToTensor())\n",
    "test_set = MNIST('./MNIST', train=False, transform=T.ToTensor())"
   ]
  },
  {
   "cell_type": "code",
   "execution_count": 17,
   "id": "72121357",
   "metadata": {
    "colab": {
     "base_uri": "https://localhost:8080/"
    },
    "id": "72121357",
    "outputId": "37e4c813-c030-4b42-ff59-471d681bbcd3"
   },
   "outputs": [
    {
     "data": {
      "text/plain": [
       "(60000, 10000)"
      ]
     },
     "execution_count": 17,
     "metadata": {},
     "output_type": "execute_result"
    }
   ],
   "source": [
    "len(train_set), len(test_set)"
   ]
  },
  {
   "cell_type": "code",
   "execution_count": 18,
   "id": "64cdeb47",
   "metadata": {
    "colab": {
     "base_uri": "https://localhost:8080/"
    },
    "id": "64cdeb47",
    "outputId": "266ef3d3-3d89-4629-885c-9e8b24c6fdd7"
   },
   "outputs": [
    {
     "data": {
      "text/plain": [
       "['0 - zero',\n",
       " '1 - one',\n",
       " '2 - two',\n",
       " '3 - three',\n",
       " '4 - four',\n",
       " '5 - five',\n",
       " '6 - six',\n",
       " '7 - seven',\n",
       " '8 - eight',\n",
       " '9 - nine']"
      ]
     },
     "execution_count": 18,
     "metadata": {},
     "output_type": "execute_result"
    }
   ],
   "source": [
    "train_set.classes"
   ]
  },
  {
   "cell_type": "code",
   "execution_count": 22,
   "id": "548a17a7",
   "metadata": {
    "colab": {
     "base_uri": "https://localhost:8080/",
     "height": 283
    },
    "id": "548a17a7",
    "outputId": "73ae4e03-6732-4a6d-c793-455a91cb29dc"
   },
   "outputs": [
    {
     "name": "stdout",
     "output_type": "stream",
     "text": [
      "Class: 5\n"
     ]
    },
    {
     "data": {
      "image/png": "[encoded data removed]",
      "text/plain": [
       "<Figure size 432x288 with 1 Axes>"
      ]
     },
     "metadata": {
      "needs_background": "light"
     },
     "output_type": "display_data"
    }
   ],
   "source": [
    "print('Class:', train_set[100][1])\n",
    "plt.imshow(train_set[100][0].permute(1, 2, 0)[..., 0])\n",
    "plt.show()"
   ]
  },
  {
   "cell_type": "code",
   "execution_count": null,
   "id": "28945339",
   "metadata": {
    "colab": {
     "base_uri": "https://localhost:8080/"
    },
    "id": "28945339",
    "outputId": "a3521abf-c4a7-45c0-ab10-12f6658fda37"
   },
   "outputs": [],
   "source": [
    "train_loader = DataLoader(train_set, batch_size=128, shuffle=True, num_workers=4, pin_memory=True)\n",
    "test_loader = DataLoader(test_set, batch_size=128, num_workers=4, pin_memory=True)"
   ]
  },
  {
   "cell_type": "code",
   "execution_count": 24,
   "id": "515ad935",
   "metadata": {
    "id": "515ad935"
   },
   "outputs": [],
   "source": [
    "import torch\n",
    "from torch import nn\n",
    "\n",
    "class Net(nn.Module):\n",
    "    def __init__(self):\n",
    "        super().__init__()\n",
    "        self.linear = nn.Sequential(\n",
    "           nn.Linear(784, 256),\n",
    "           nn.ReLU(),\n",
    "           nn.Linear(256, 256),\n",
    "           nn.ReLU(),\n",
    "           nn.Linear(256, 10)\n",
    "        )\n",
    "        \n",
    "    def forward(self, x):\n",
    "        return self.linear(x)"
   ]
  },
  {
   "cell_type": "code",
   "execution_count": 25,
   "id": "303e10ce",
   "metadata": {
    "id": "303e10ce"
   },
   "outputs": [],
   "source": [
    "def set_random_seed(seed):\n",
    "    torch.backends.cudnn.deterministic = True\n",
    "    torch.manual_seed(seed)\n",
    "    torch.cuda.manual_seed(seed)"
   ]
  },
  {
   "cell_type": "code",
   "execution_count": 26,
   "id": "53a037d4",
   "metadata": {
    "id": "53a037d4"
   },
   "outputs": [],
   "source": [
    "set_random_seed(101)\n",
    "model = Net().to(device)\n",
    "optimizer = torch.optim.SGD(model.parameters(), lr=0.05)\n",
    "criterion = nn.CrossEntropyLoss()"
   ]
  },
  {
   "cell_type": "code",
   "execution_count": null,
   "id": "9a303702",
   "metadata": {
    "colab": {
     "base_uri": "https://localhost:8080/"
    },
    "id": "9a303702",
    "outputId": "241229ed-d469-41f0-a3c5-d829f7320de7"
   },
   "outputs": [],
   "source": [
    "train_losses = []\n",
    "train_accuracies = []\n",
    "\n",
    "\n",
    "model.train()\n",
    "for epoch in range(10):\n",
    "    for images, labels in train_loader:\n",
    "        images = images.to(device)\n",
    "        labels = labels.to(device)\n",
    "\n",
    "        optimizer.zero_grad()\n",
    "        images = torch.flatten(images, start_dim=1)\n",
    "        outputs = model(images)\n",
    "        loss = criterion(outputs, labels)\n",
    "        loss.backward()\n",
    "        optimizer.step()\n",
    "\n",
    "        predicts = outputs.argmax(dim=1)\n",
    "        accuracy = (predicts == labels).to(torch.float).mean()\n",
    "        train_losses += [loss.item()]\n",
    "        train_accuracies += [accuracy.item()]\n",
    "\n",
    "\n",
    "model.eval()\n",
    "test_loss, test_accuracy = 0, 0\n",
    "with torch.no_grad():\n",
    "    for images, labels in test_loader:\n",
    "        images = images.to(device)\n",
    "        labels = labels.to(device)\n",
    "\n",
    "        images = torch.flatten(images, start_dim=1)\n",
    "        outputs = model(images)\n",
    "        loss = criterion(outputs, labels)\n",
    "\n",
    "        predicts = outputs.argmax(dim=1)\n",
    "        accuracy = (predicts == labels).to(torch.float).sum()\n",
    "        test_loss += loss.item() * outputs.shape[0]\n",
    "        test_accuracy += accuracy.item()\n",
    "\n",
    "test_loss /= len(test_set)\n",
    "test_accuracy /= len(test_set)"
   ]
  },
  {
   "cell_type": "code",
   "execution_count": 30,
   "id": "fe398398",
   "metadata": {
    "colab": {
     "base_uri": "https://localhost:8080/",
     "height": 297
    },
    "id": "fe398398",
    "outputId": "9f7f9f6e-7b31-4f5d-a3fe-a180a16eb522"
   },
   "outputs": [
    {
     "data": {
      "image/png": "[encoded data removed]",
      "text/plain": [
       "<Figure size 432x288 with 1 Axes>"
      ]
     },
     "metadata": {
      "needs_background": "light"
     },
     "output_type": "display_data"
    },
    {
     "name": "stdout",
     "output_type": "stream",
     "text": [
      "Test loss: 0.12090154956281185\n"
     ]
    }
   ],
   "source": [
    "plt.plot(range(len(train_losses)), train_losses)\n",
    "plt.xlabel('train step')\n",
    "plt.ylabel('train loss')\n",
    "plt.grid()\n",
    "plt.show()\n",
    "print('Test loss:', test_loss)"
   ]
  },
  {
   "cell_type": "code",
   "execution_count": 33,
   "id": "ba91d91f",
   "metadata": {
    "colab": {
     "base_uri": "https://localhost:8080/",
     "height": 297
    },
    "id": "ba91d91f",
    "outputId": "36ddc90f-a487-4e9f-8d49-674dc07dae63"
   },
   "outputs": [
    {
     "data": {
      "image/png": "[encoded data removed]",
      "text/plain": [
       "<Figure size 432x288 with 1 Axes>"
      ]
     },
     "metadata": {
      "needs_background": "light"
     },
     "output_type": "display_data"
    },
    {
     "name": "stdout",
     "output_type": "stream",
     "text": [
      "Test accuracy: 0.9638\n"
     ]
    }
   ],
   "source": [
    "plt.plot(range(len(train_accuracies)), train_accuracies)\n",
    "plt.xlabel('train step')\n",
    "plt.ylabel('train accuracy')\n",
    "plt.grid()\n",
    "plt.show()\n",
    "print('Test accuracy:', test_accuracy)"
   ]
  },
  {
   "cell_type": "code",
   "execution_count": null,
   "id": "jRKPtN9HGSqI",
   "metadata": {
    "id": "jRKPtN9HGSqI"
   },
   "outputs": [],
   "source": []
  }
 ],
 "metadata": {
  "accelerator": "GPU",
  "colab": {
   "name": "sem01.ipynb",
   "provenance": []
  },
  "kernelspec": {
   "display_name": "Python 3",
   "language": "python",
   "name": "python3"
  },
  "language_info": {
   "codemirror_mode": {
    "name": "ipython",
    "version": 3
   },
   "file_extension": ".py",
   "mimetype": "text/x-python",
   "name": "python",
   "nbconvert_exporter": "python",
   "pygments_lexer": "ipython3",
   "version": "3.9.0"
  }
 },
 "nbformat": 4,
 "nbformat_minor": 5
}
